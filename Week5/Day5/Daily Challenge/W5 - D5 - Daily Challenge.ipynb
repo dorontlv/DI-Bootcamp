{
  "nbformat": 4,
  "nbformat_minor": 0,
  "metadata": {
    "colab": {
      "provenance": []
    },
    "kernelspec": {
      "name": "python3",
      "display_name": "Python 3"
    },
    "language_info": {
      "name": "python"
    }
  },
  "cells": [
    {
      "cell_type": "code",
      "execution_count": null,
      "metadata": {
        "id": "535F3zF3r-IN"
      },
      "outputs": [],
      "source": [
        "'''\n",
        "Dataset\n",
        "Pokemon Dataset you can find here :\n",
        "\n",
        "pokemon.csv: Contains stats like HP, Attack, Type 1, Legendary, etc., for 800+ Pokemon.\n",
        "combats.csv: Records 50,000 battle outcomes between Pokemon.\n",
        "\n",
        "What you need to do:\n",
        "Data Preparation\n",
        "\n",
        "Load and merge pokemon.csv and combats.csv.\n",
        "Fix missing values:\n",
        "Fill the missing Name for Pokemon #62 (Primeape).\n",
        "Handle NaN values in Type 2 (mark as “None” if missing).\n",
        "Calculate each Pokemon’s win percentage using the combat data.\n",
        "Exploratory Analysis & Visualization\n",
        "\n",
        "Create a correlation matrix to identify relationships between stats (HP, Attack, Speed) and win percentage.\n",
        "Plot a Seaborn pairplot or PairGrid for stats vs. win percentage.\n",
        "Analyze the top 10 Pokemon by win percentage and their stats.\n",
        "Machine Learning\n",
        "\n",
        "Split data into training/testing sets (80/20 split).\n",
        "Train and evaluate 3 regression models (e.g., Linear Regression, Random Forest, XGBoost) to predict win percentage.\n",
        "Compare model performance using Mean Absolute Error (MAE).\n",
        "\n",
        "'''"
      ]
    },
    {
      "cell_type": "code",
      "source": [
        "import pandas as pd\n",
        "\n",
        "# load the files\n",
        "pokemon = pd.read_csv(\"/content/pokemon.csv\")\n",
        "combats = pd.read_csv(\"/content/combats.csv\")\n",
        "\n",
        "# fill missing name for pokemon #62\n",
        "pokemon.loc[62, 'Name'] = \"Primeape\"\n",
        "\n",
        "# column \"Type 2\" has many missing values.  fill them.\n",
        "print(pokemon[pokemon[\"Type 2\"].isnull()])\n",
        "pokemon[\"Type 2\"] = pokemon[\"Type 2\"].fillna(\"None\")\n"
      ],
      "metadata": {
        "colab": {
          "base_uri": "https://localhost:8080/"
        },
        "id": "nHKID6NvsauN",
        "outputId": "050f4d1a-1492-493c-9faf-22ef89629476"
      },
      "execution_count": 1,
      "outputs": [
        {
          "output_type": "stream",
          "name": "stdout",
          "text": [
            "       #        Name  Type 1 Type 2   HP  Attack  Defense  Sp. Atk  Sp. Def  \\\n",
            "4      5  Charmander    Fire    NaN   39      52       43       60       50   \n",
            "5      6  Charmeleon    Fire    NaN   58      64       58       80       65   \n",
            "9     10    Squirtle   Water    NaN   44      48       65       50       64   \n",
            "10    11   Wartortle   Water    NaN   59      63       80       65       80   \n",
            "11    12   Blastoise   Water    NaN   79      83      100       85      105   \n",
            "..   ...         ...     ...    ...  ...     ...      ...      ...      ...   \n",
            "775  776     Sliggoo  Dragon    NaN   68      75       53       83      113   \n",
            "776  777      Goodra  Dragon    NaN   90     100       70      110      150   \n",
            "788  789    Bergmite     Ice    NaN   55      69       85       32       35   \n",
            "789  790     Avalugg     Ice    NaN   95     117      184       44       46   \n",
            "792  793     Xerneas   Fairy    NaN  126     131       95      131       98   \n",
            "\n",
            "     Speed  Generation  Legendary  \n",
            "4       65           1      False  \n",
            "5       80           1      False  \n",
            "9       43           1      False  \n",
            "10      58           1      False  \n",
            "11      78           1      False  \n",
            "..     ...         ...        ...  \n",
            "775     60           6      False  \n",
            "776     80           6      False  \n",
            "788     28           6      False  \n",
            "789     28           6      False  \n",
            "792     99           6       True  \n",
            "\n",
            "[386 rows x 12 columns]\n"
          ]
        }
      ]
    },
    {
      "cell_type": "code",
      "source": [
        "# Calculate each Pokemon’s win percentage using the combat data.\n",
        "\n",
        "# count the number of games won by pokemons\n",
        "winners_games_counts = combats[\"Winner\"].value_counts()\n",
        "\n",
        "# count the number of games that pokemons played - in every list.  (there are 2 lists).\n",
        "first_list_counts_of_pokemon_games = combats['First_pokemon'].value_counts()\n",
        "second_list_counts_of_pokemon_games = combats['Second_pokemon'].value_counts()\n",
        "\n",
        "# you can add 2 pandas.Series - where values are added element-wise based on matching indices\n",
        "# if there are indices in one Series but not in the other, it's like there was a value of 0 where the indices were missing (fill_value=0)\n",
        "all_games_counts = first_list_counts_of_pokemon_games.add(second_list_counts_of_pokemon_games, fill_value=0)\n",
        "# so we now have a list of all pokemon games count\n",
        "# (BTW, not all pokemons are on the list, because not all pokemons played games. There are 16 pokemons that didn't play at all. But this is not important).\n",
        "\n",
        "# we will divide the numbers to get the percentage of winning for pokemons that played.\n",
        "# we use the parameter fill_value=0 , because there's one pokemon that played games but never won, so he doesn't exist on the winners list.\n",
        "# So, for this pokemon, if we don't use fill_value=0 then we will get NaN instead of 0 percentage.\n",
        "winning_percentage_of_pokemons_that_played = winners_games_counts.div(all_games_counts, fill_value=0) * 100\n",
        "\n",
        "# sort the list so we can use it later when checking the relationship to other features.\n",
        "winning_percentage_of_pokemons_that_played.sort_index(inplace=True)\n",
        "\n",
        "# print in descending order\n",
        "print ( winning_percentage_of_pokemons_that_played.sort_values(ascending=False) )\n"
      ],
      "metadata": {
        "colab": {
          "base_uri": "https://localhost:8080/"
        },
        "id": "LqpXWey_slmV",
        "outputId": "9751d831-640f-4300-899a-40786178369d"
      },
      "execution_count": 2,
      "outputs": [
        {
          "output_type": "stream",
          "name": "stdout",
          "text": [
            "155    98.449612\n",
            "513    97.478992\n",
            "704    96.800000\n",
            "20     96.638655\n",
            "154    96.453901\n",
            "         ...    \n",
            "237     3.252033\n",
            "639     3.100775\n",
            "190     2.459016\n",
            "290     2.173913\n",
            "231     0.000000\n",
            "Name: count, Length: 784, dtype: float64\n"
          ]
        }
      ]
    },
    {
      "cell_type": "code",
      "source": [
        "# merging the winning data into the pokemons DataFrame\n",
        "# we have to do it because there are 16 pokemons that never won any game - so we have to find them and delete them\n",
        "\n",
        "pokemon['WinningPercentage'] = pokemon['#'].map(winning_percentage_of_pokemons_that_played)\n",
        "\n",
        "print(pokemon.isnull().sum())\n",
        "\n",
        "# drop those who don't have a winning score - because there are 16 pokemons that never won any game.\n",
        "pokemon = pokemon.dropna(subset=['WinningPercentage'])\n"
      ],
      "metadata": {
        "colab": {
          "base_uri": "https://localhost:8080/"
        },
        "id": "se43QKnQszu1",
        "outputId": "4edd5bb2-c4b2-424c-a853-b0ceaf1910c5"
      },
      "execution_count": 3,
      "outputs": [
        {
          "output_type": "stream",
          "name": "stdout",
          "text": [
            "#                     0\n",
            "Name                  0\n",
            "Type 1                0\n",
            "Type 2                0\n",
            "HP                    0\n",
            "Attack                0\n",
            "Defense               0\n",
            "Sp. Atk               0\n",
            "Sp. Def               0\n",
            "Speed                 0\n",
            "Generation            0\n",
            "Legendary             0\n",
            "WinningPercentage    16\n",
            "dtype: int64\n"
          ]
        }
      ]
    },
    {
      "cell_type": "code",
      "source": [
        "# examine the relationship between stats (HP, Attack, Speed) and the winning percentage\n",
        "correlation_matrix = pokemon[['HP', 'Attack', 'Speed', 'WinningPercentage']].corr()\n",
        "\n",
        "# show the correlations with the target column (WinningPercentage)\n",
        "print( correlation_matrix['WinningPercentage'].drop('WinningPercentage') )\n",
        "\n",
        "# we can see that speed is very much correlated to winning\n"
      ],
      "metadata": {
        "colab": {
          "base_uri": "https://localhost:8080/"
        },
        "id": "qSfJjYXTs37m",
        "outputId": "bf95e482-ede4-4c31-d0e3-25a9229ac6d9"
      },
      "execution_count": 4,
      "outputs": [
        {
          "output_type": "stream",
          "name": "stdout",
          "text": [
            "HP        0.261602\n",
            "Attack    0.502825\n",
            "Speed     0.938055\n",
            "Name: WinningPercentage, dtype: float64\n"
          ]
        }
      ]
    }
  ]
}