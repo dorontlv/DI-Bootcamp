{
  "nbformat": 4,
  "nbformat_minor": 0,
  "metadata": {
    "colab": {
      "provenance": []
    },
    "kernelspec": {
      "name": "python3",
      "display_name": "Python 3"
    },
    "language_info": {
      "name": "python"
    }
  },
  "cells": [
    {
      "cell_type": "code",
      "source": [
        "'''\n",
        "\n",
        "Exercises XP\n",
        "\n",
        "A Logistic Regression model to predict diabetes for individuals.\n",
        "\n",
        "For the six below exercises we will use this dataset\n",
        "https://www.kaggle.com/datasets/iammustafatz/diabetes-prediction-dataset/data\n",
        "\n",
        "'''\n"
      ],
      "metadata": {
        "id": "MC3aOn3w5NXe"
      },
      "execution_count": null,
      "outputs": []
    },
    {
      "cell_type": "code",
      "source": [
        "'''\n",
        "\n",
        "Exercise 1 : Understanding the problem and Data Collection\n",
        "We want to predict if an individual will have diabetes.\n",
        "\n",
        "Load the diabetes dataset and explore it.\n",
        "How many positive and negative cases is there ?\n",
        "Split the data into training and testing sets\n",
        "\n",
        "'''\n",
        "\n",
        "import numpy as np\n",
        "import pandas as pd\n",
        "import matplotlib.pyplot as plt\n",
        "import seaborn as sns\n",
        "\n",
        "from sklearn.model_selection import train_test_split\n",
        "\n",
        "df = pd.read_csv('/content/diabetes_prediction_dataset.csv')\n",
        "df\n",
        "df.columns\n",
        "\n",
        "target = 'diabetes'  # target column\n",
        "\n",
        "df[target].value_counts()  # 8500 positive.  91500 negative.  100000 total.\n",
        "\n",
        "class_names = {0:'Not Diabetes', 1:'Diabetes'}\n",
        "print(df.diabetes.value_counts().rename(index = class_names))\n",
        "\n",
        "# ~~~~~~~~~~~~~~~~\n",
        "\n",
        "categorical_columns = ['gender', 'smoking_history']  # List of categorical columns\n",
        "\n",
        "X = df.drop(columns=[target])  # all features except the target column\n",
        "y = df[target]  # target column (boolean yes/no for diabetes)\n",
        "\n",
        "# convert categorical columns using one-hot encoding\n",
        "X = pd.get_dummies(X, columns=categorical_columns, drop_first=True)\n",
        "\n",
        "# X.columns\n",
        "\n",
        "# split the data into training and testing sets\n",
        "X_train, X_test, y_train, y_test = train_test_split(X, y, test_size=0.3, random_state=42)\n",
        "\n"
      ],
      "metadata": {
        "colab": {
          "base_uri": "https://localhost:8080/"
        },
        "id": "eHL0Dt685Y41",
        "outputId": "52d1fca6-7bd9-4236-9073-d40cc8b67ab5"
      },
      "execution_count": 3,
      "outputs": [
        {
          "output_type": "stream",
          "name": "stdout",
          "text": [
            "diabetes\n",
            "Not Diabetes    91500\n",
            "Diabetes         8500\n",
            "Name: count, dtype: int64\n"
          ]
        }
      ]
    },
    {
      "cell_type": "code",
      "execution_count": 4,
      "metadata": {
        "id": "yp6n1HPY45_g"
      },
      "outputs": [],
      "source": [
        "\n",
        "'''\n",
        "\n",
        "Exercise 2 : Model Picking and Standardization\n",
        "Which classification model can we use in this problem and why ?\n",
        "Do we need to standardize the data ? If yes, use .StandardScaler()\n",
        "\n",
        "'''\n",
        "\n",
        "# the classification model we will use is logistic regression, because we want to predict a boolean value (yes/no about diabetes).\n",
        "\n",
        "# standardizing the data is important when using logistic regression, in case where the numerical features are on different scales.\n",
        "\n",
        "# I checked on the internet:\n",
        "# logistic regression relies on optimization algorithms like gradient descent, which converge faster and work better when the input features are scaled.\n",
        "\n",
        "# the numerical values we have are: age, bmi, HbA1c_level, blood_glucose_level\n",
        "\n",
        "from sklearn.preprocessing import StandardScaler\n",
        "\n",
        "numerical_columns = ['age', 'bmi', 'HbA1c_level', 'blood_glucose_level']\n",
        "scaler = StandardScaler()\n",
        "# fit the scaler on the training data and transform it\n",
        "X_train[numerical_columns] = scaler.fit_transform(X_train[numerical_columns])\n",
        "# transform the test data using the same scaler (don't fit again)\n",
        "X_test[numerical_columns] = scaler.transform(X_test[numerical_columns])\n"
      ]
    },
    {
      "cell_type": "code",
      "source": [
        "\n",
        "'''\n",
        "\n",
        "Exercise 3 : Model Training\n",
        "We will use, the logistic regression model, Train it.\n",
        "\n",
        "'''\n",
        "\n",
        "from sklearn.linear_model import LogisticRegression\n",
        "\n",
        "# train the logistic regression model\n",
        "model = LogisticRegression(random_state=42, max_iter=1000)\n",
        "model.fit(X_train, y_train)\n",
        "\n",
        "# make predictions on the test data\n",
        "y_pred = model.predict(X_test)\n"
      ],
      "metadata": {
        "id": "xQ-apjgN7LYt"
      },
      "execution_count": 5,
      "outputs": []
    },
    {
      "cell_type": "code",
      "source": [
        "\n",
        "'''\n",
        "\n",
        "Exercise 4 : Evaluation Metrics\n",
        "Plot the accuracy score and comment the results.\n",
        "Plot the confusion matrix and comment the results.\n",
        "Plot the Recall, precision, F1-score and comment the results.\n",
        "\n",
        "'''\n",
        "\n",
        "# evaluate performance\n",
        "\n",
        "from sklearn.metrics import classification_report, confusion_matrix\n",
        "\n",
        "print(\"Classification report:\")\n",
        "print(classification_report(y_test, y_pred))\n",
        "\n",
        "# generate the confusion matrix\n",
        "cm = confusion_matrix(y_test, y_pred)\n",
        "\n",
        "print(\"\\nConfusion matrix:\")\n",
        "print(cm)\n",
        "\n",
        "# define class names\n",
        "class_names = [\"not diabetes\", \"diabetes\"]\n",
        "\n",
        "# create a DataFrame from the confusion matrix\n",
        "cm_df = pd.DataFrame(cm, index=class_names, columns=class_names)\n",
        "\n",
        "# plot a heatmap\n",
        "plt.figure(figsize=(8, 6))\n",
        "sns.heatmap(cm_df, annot=True, fmt=\"d\", cmap=\"Blues\", linewidths=0.5)\n",
        "plt.title(\"Confusion matrix heatmap\")\n",
        "plt.xlabel(\"Predicted labels\")\n",
        "plt.ylabel(\"Actual labels\")\n",
        "plt.show()\n"
      ],
      "metadata": {
        "colab": {
          "base_uri": "https://localhost:8080/",
          "height": 807
        },
        "id": "9sT5Q2_q7OZl",
        "outputId": "7049a59a-bc73-445f-8eaf-ee5b07bd71bd"
      },
      "execution_count": 6,
      "outputs": [
        {
          "output_type": "stream",
          "name": "stdout",
          "text": [
            "Classification report:\n",
            "              precision    recall  f1-score   support\n",
            "\n",
            "           0       0.97      0.99      0.98     27453\n",
            "           1       0.86      0.62      0.72      2547\n",
            "\n",
            "    accuracy                           0.96     30000\n",
            "   macro avg       0.91      0.80      0.85     30000\n",
            "weighted avg       0.96      0.96      0.96     30000\n",
            "\n",
            "\n",
            "Confusion matrix:\n",
            "[[27202   251]\n",
            " [  975  1572]]\n"
          ]
        },
        {
          "output_type": "display_data",
          "data": {
            "text/plain": [
              "<Figure size 800x600 with 2 Axes>"
            ],
            "image/png": "[encoded data removed]"
          },
          "metadata": {}
        }
      ]
    },
    {
      "cell_type": "code",
      "source": [
        "\n",
        "'''\n",
        "\n",
        "Exercise 5 : Visualizing the performance of our model\n",
        "Visualize the decision boundary with accuracy information.\n",
        "\n",
        "'''\n",
        "'''\n",
        "\n",
        "On this exercise, we need to do exactly what we did above:\n",
        "Splitting, training, and predicting.\n",
        "\n",
        "But we need to do it only on 2 columns.\n",
        "We need to choose 2 columns and then do the same process of splitting, training, and predicting.\n",
        "\n",
        "Then create an np.meshgrid.\n",
        "Then predict again.\n",
        "Then use plt.contourf.\n",
        "\n",
        "We spoke about it very briefly in class, and we saw an example:\n",
        "\n",
        "# Visualize the decision boundary\n",
        "x_min, x_max = X_train_sub[:, 0].min() - 1, X_train_sub[:, 0].max() + 1\n",
        "y_min, y_max = X_train_sub[:, 1].min() - 1, X_train_sub[:, 1].max() + 1\n",
        "xx, yy = np.meshgrid(np.arange(x_min, x_max, 0.01),\n",
        "                     np.arange(y_min, y_max, 0.01))\n",
        "\n",
        "Then we need to predict.\n",
        "\n",
        "And then plot with:\n",
        "plt.contourf(xx, yy ...\n",
        "\n",
        "I will not copy the whole example...\n",
        "\n",
        "'''"
      ],
      "metadata": {
        "id": "CmjShm9m7Rr9"
      },
      "execution_count": null,
      "outputs": []
    },
    {
      "cell_type": "code",
      "source": [
        "\n",
        "'''\n",
        "\n",
        "Exercise 6 : ROC Curve\n",
        "Plot the ROC Curve\n",
        "\n",
        "'''\n",
        "\n",
        "from sklearn import metrics\n",
        "\n",
        "# define metrics\n",
        "\n",
        "# For binary classification, model.predict_proba() returns a 2D array\n",
        "y_pred_proba = model.predict_proba(X_test)[::,1]\n",
        "\n",
        "fpr, tpr, _ = metrics.roc_curve(y_test,  y_pred_proba)\n",
        "\n",
        "# create the ROC curve\n",
        "plt.plot(fpr,tpr)\n",
        "plt.ylabel('True Positive Rate')\n",
        "plt.xlabel('False Positive Rate')\n",
        "plt.show()\n",
        "\n",
        "# the best threshold is the one located closest to the top left point of the curve.\n",
        "\n"
      ],
      "metadata": {
        "colab": {
          "base_uri": "https://localhost:8080/",
          "height": 449
        },
        "id": "b9L0mwQ37Uvt",
        "outputId": "bb72f208-1c8e-4d18-daa1-bc2a0afa8178"
      },
      "execution_count": 8,
      "outputs": [
        {
          "output_type": "display_data",
          "data": {
            "text/plain": [
              "<Figure size 640x480 with 1 Axes>"
            ],
            "image/png": "[encoded data removed]"
          },
          "metadata": {}
        }
      ]
    }
  ]
}